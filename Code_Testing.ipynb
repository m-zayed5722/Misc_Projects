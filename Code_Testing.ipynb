{
  "nbformat": 4,
  "nbformat_minor": 0,
  "metadata": {
    "colab": {
      "provenance": [],
      "authorship_tag": "ABX9TyMiQgiIOnrfc7G3uI0vp/Bm",
      "include_colab_link": true
    },
    "kernelspec": {
      "name": "python3",
      "display_name": "Python 3"
    },
    "language_info": {
      "name": "python"
    }
  },
  "cells": [
    {
      "cell_type": "markdown",
      "metadata": {
        "id": "view-in-github",
        "colab_type": "text"
      },
      "source": [
        "<a href=\"https://colab.research.google.com/github/m-zayed5722/Misc_Projects/blob/main/Code_Testing.ipynb\" target=\"_parent\"><img src=\"https://colab.research.google.com/assets/colab-badge.svg\" alt=\"Open In Colab\"/></a>"
      ]
    },
    {
      "cell_type": "code",
      "execution_count": null,
      "metadata": {
        "id": "lSeS5pjdvvcB"
      },
      "outputs": [],
      "source": [
        "import pandas as pd\n",
        "import numpy as np\n",
        "import tensorflow as tf\n"
      ]
    },
    {
      "cell_type": "code",
      "source": [
        "import string\n",
        "import random\n"
      ],
      "metadata": {
        "id": "r2h9bmU2p87B"
      },
      "execution_count": null,
      "outputs": []
    },
    {
      "cell_type": "code",
      "source": [],
      "metadata": {
        "id": "A7CVoayrzfL-"
      },
      "execution_count": null,
      "outputs": []
    },
    {
      "cell_type": "code",
      "source": [
        "def sum_array(arr):\n",
        "    # Initialize a variable to keep track of the sum\n",
        "    total = 0\n",
        "\n",
        "    # Using a variable to skip numbers if needed\n",
        "    skip = False\n",
        "\n",
        "    # Traverse through the array\n",
        "    i = 0\n",
        "    while i < len(arr):\n",
        "        # If the current number is 6 and the skip flag is False\n",
        "        if arr[i] == 6 and not skip:\n",
        "            # Try to find the next 7 in the array\n",
        "            if 7 in arr[i+1:]:\n",
        "                # Set the index i to the position after 7\n",
        "                i = arr.index(7, i+1) + 1\n",
        "                # Set the skip flag to True to avoid considering any numbers between 6 and 7\n",
        "                skip = True\n",
        "                continue\n",
        "        # If the current number is not 6 or if the skip flag is False\n",
        "        if not skip:\n",
        "            print (arr[i])\n",
        "            total += arr[i]\n",
        "        i += 1\n",
        "\n",
        "    return total\n",
        "\n",
        "# Example usage\n",
        "arr = [1, 2, 3, 6, 4, 5, 7, 8]\n",
        "print(sum_array(arr))  # Expected output: 1+2+3+8 = 14"
      ],
      "metadata": {
        "colab": {
          "base_uri": "https://localhost:8080/"
        },
        "id": "SDamID5wzfOo",
        "outputId": "4b19c6ff-76ef-4884-fbdc-f6ebbd31fbd4"
      },
      "execution_count": null,
      "outputs": [
        {
          "output_type": "stream",
          "name": "stdout",
          "text": [
            "1\n",
            "2\n",
            "3\n",
            "6\n"
          ]
        }
      ]
    },
    {
      "cell_type": "code",
      "source": [],
      "metadata": {
        "id": "7yHuS_GXzfRV"
      },
      "execution_count": null,
      "outputs": []
    },
    {
      "cell_type": "code",
      "source": [],
      "metadata": {
        "id": "i-cAlsDBzfUB"
      },
      "execution_count": null,
      "outputs": []
    },
    {
      "cell_type": "code",
      "source": [],
      "metadata": {
        "id": "e11qsa7-zfWU"
      },
      "execution_count": null,
      "outputs": []
    },
    {
      "cell_type": "code",
      "source": [
        "\n",
        "\n",
        "def generate_password(length):\n",
        "    \"\"\"\n",
        "    Generates a random password with uppercase, lowercase, numbers, and special characters.\n",
        "\n",
        "    Args:\n",
        "        length: The desired length of the password.\n",
        "\n",
        "    Returns:\n",
        "        A string representing the generated password.\n",
        "    \"\"\"\n",
        "\n",
        "    # Combine all character sets\n",
        "    characters = string.ascii_letters + string.digits + string.punctuation\n",
        "\n",
        "    # Ensure at least one character from each category\n",
        "    password = []\n",
        "    required_chars = [\n",
        "        random.choice(string.ascii_lowercase),\n",
        "        random.choice(string.ascii_uppercase),\n",
        "        random.choice(string.digits),\n",
        "        random.choice(string.punctuation)\n",
        "    ]\n",
        "    password.extend(required_chars)\n",
        "    # Fill the rest with random characters\n",
        "    for _ in range(length - 4):\n",
        "        password.append(random.choice(characters))\n",
        "\n",
        "    # Shuffle to avoid predictable patterns\n",
        "    random.shuffle(password)\n",
        "\n",
        "    return ''.join(password)\n"
      ],
      "metadata": {
        "colab": {
          "base_uri": "https://localhost:8080/"
        },
        "id": "XB9cZjq2LPQO",
        "outputId": "ba6981b5-f073-4133-e4dc-dfb1c456f2e9"
      },
      "execution_count": null,
      "outputs": [
        {
          "output_type": "stream",
          "name": "stdout",
          "text": [
            "!I[(fE2oGA$0\n"
          ]
        }
      ]
    },
    {
      "cell_type": "code",
      "source": [
        "print(generate_password(12))  # Example output: i69D@&,9@czm"
      ],
      "metadata": {
        "colab": {
          "base_uri": "https://localhost:8080/"
        },
        "id": "Icz9_WUHLPSr",
        "outputId": "81db3ec2-04eb-4314-903e-dcacac6380ab"
      },
      "execution_count": null,
      "outputs": [
        {
          "output_type": "stream",
          "name": "stdout",
          "text": [
            "21_1U~1pHyUI\n"
          ]
        }
      ]
    },
    {
      "cell_type": "code",
      "source": [],
      "metadata": {
        "id": "aBJpOmXIOKZN"
      },
      "execution_count": null,
      "outputs": []
    },
    {
      "cell_type": "code",
      "source": [
        "def generate_password(length):\n",
        "    # Ensure required character types\n",
        "    lowercase = string.ascii_lowercase\n",
        "    uppercase = string.ascii_uppercase\n",
        "    digits = string.digits\n",
        "    symbols = string.punctuation\n",
        "\n",
        "    # Guarantee at least one character from each category\n",
        "    password = random.choice(lowercase) + random.choice(uppercase) + \\\n",
        "               random.choice(digits) + random.choice(symbols)\n",
        "\n",
        "    # Fill remaining characters\n",
        "    remaining_length = length - 4  # Account for the guaranteed characters\n",
        "    all_chars = lowercase + uppercase + digits + symbols\n",
        "    for _ in range(remaining_length):\n",
        "        password += random.choice(all_chars)\n",
        "\n",
        "    # Shuffle for better security\n",
        "    password_list = list(password)\n",
        "    random.shuffle(password_list)\n",
        "    password = ''.join(password_list)\n",
        "\n",
        "    return password"
      ],
      "metadata": {
        "id": "iio4e4kbOKfD"
      },
      "execution_count": null,
      "outputs": []
    },
    {
      "cell_type": "code",
      "source": [],
      "metadata": {
        "id": "uz7gU5T_OOqc"
      },
      "execution_count": null,
      "outputs": []
    },
    {
      "cell_type": "code",
      "source": [
        "print(generate_password(12))  # Example output: i69D@&,9@czm"
      ],
      "metadata": {
        "colab": {
          "base_uri": "https://localhost:8080/"
        },
        "id": "86wouySAOOs_",
        "outputId": "f30feae8-d343-46b4-dc51-d2f8b2f17cd5"
      },
      "execution_count": null,
      "outputs": [
        {
          "output_type": "stream",
          "name": "stdout",
          "text": [
            "imzgvGV|`9;W\n"
          ]
        }
      ]
    },
    {
      "cell_type": "code",
      "source": [],
      "metadata": {
        "id": "DPEcI3R9OOvV"
      },
      "execution_count": null,
      "outputs": []
    },
    {
      "cell_type": "code",
      "source": [],
      "metadata": {
        "id": "gz3FAE-7OOxy"
      },
      "execution_count": null,
      "outputs": []
    },
    {
      "cell_type": "code",
      "source": [],
      "metadata": {
        "id": "hrfg15c1OO0E"
      },
      "execution_count": null,
      "outputs": []
    },
    {
      "cell_type": "code",
      "source": [],
      "metadata": {
        "id": "zm5KeihjLPVW"
      },
      "execution_count": null,
      "outputs": []
    },
    {
      "cell_type": "code",
      "source": [
        "\n",
        "@tf.custom_gradient\n",
        "def grad_reverse(x):\n",
        "  y = tf.identity(x)\n",
        "  def custom_grad(dy):\n",
        "    return -dy\n",
        "  return y, custom_grad\n",
        "\n",
        "# Example input (tensor)\n",
        "input_tensor = tf.constant([[1.0, 2.0], [3.0, 4.0]])\n",
        "\n",
        "with tf.GradientTape() as tape:\n",
        "  reversed_tensor = grad_reverse(input_tensor)  # Gradient will be reversed\n",
        "  output = tf.reduce_sum(reversed_tensor)     # Example follow-up operation\n",
        "\n",
        "# Calculate the gradient (which will use the reversed gradient from grad_reverse)\n",
        "grad = tape.gradient(output, input_tensor)\n",
        "\n",
        "print(\"Original input tensor: \\n\", input_tensor)\n",
        "print(\"Output of grad_reverse: \\n\", reversed_tensor)\n",
        "print(\"Gradient (reversed): \\n\", grad)\n"
      ],
      "metadata": {
        "colab": {
          "base_uri": "https://localhost:8080/"
        },
        "id": "1YSpmo7nSfSm",
        "outputId": "6d5f15be-8a52-4125-efdc-0fe2b2a2d37d"
      },
      "execution_count": null,
      "outputs": [
        {
          "output_type": "stream",
          "name": "stdout",
          "text": [
            "Original input tensor: \n",
            " tf.Tensor(\n",
            "[[1. 2.]\n",
            " [3. 4.]], shape=(2, 2), dtype=float32)\n",
            "Output of grad_reverse: \n",
            " tf.Tensor(\n",
            "[[1. 2.]\n",
            " [3. 4.]], shape=(2, 2), dtype=float32)\n",
            "Gradient (reversed): \n",
            " None\n"
          ]
        }
      ]
    },
    {
      "cell_type": "code",
      "source": [
        "# Define the custom gradient function\n",
        "@tf.custom_gradient\n",
        "def grad_reverse(x):\n",
        "    y = tf.identity(x)\n",
        "\n",
        "    # Define the custom gradient function\n",
        "    def custom_grad(dy):\n",
        "        return -dy\n",
        "\n",
        "    return y, custom_grad\n",
        "\n",
        "# Example input (tensor)\n",
        "input_tensor = tf.constant([[1.0, 2.0], [3.0, 4.0]])\n",
        "\n",
        "with tf.GradientTape() as tape:\n",
        "    # Apply grad_reverse to the reduction operation\n",
        "    reversed_tensor = tf.reduce_sum(grad_reverse(input_tensor))\n",
        "    output = tf.reduce_sum(reversed_tensor)  # Example follow-up operation\n",
        "\n",
        "# Calculate the gradient (which will use the reversed gradient from grad_reverse)\n",
        "grad = tape.gradient(output, input_tensor)\n",
        "\n",
        "print(\"Original input tensor: \\n\", input_tensor)\n",
        "print(\"Output of grad_reverse: \\n\", reversed_tensor)\n",
        "print(\"Gradient (reversed): \\n\", grad)"
      ],
      "metadata": {
        "colab": {
          "base_uri": "https://localhost:8080/"
        },
        "id": "KywPRkBkTcR2",
        "outputId": "c97fb0b9-52a5-4857-df89-d36af1ee6d9a"
      },
      "execution_count": null,
      "outputs": [
        {
          "output_type": "stream",
          "name": "stdout",
          "text": [
            "Original input tensor: \n",
            " tf.Tensor(\n",
            "[[1. 2.]\n",
            " [3. 4.]], shape=(2, 2), dtype=float32)\n",
            "Output of grad_reverse: \n",
            " tf.Tensor(10.0, shape=(), dtype=float32)\n",
            "Gradient (reversed): \n",
            " None\n"
          ]
        }
      ]
    },
    {
      "cell_type": "code",
      "source": [
        "\n",
        "# Define the custom gradient function\n",
        "@tf.custom_gradient\n",
        "def grad_reverse(x):\n",
        "    y = tf.identity(x)\n",
        "\n",
        "    # Define the custom gradient function\n",
        "    def custom_grad(dy):\n",
        "        return -dy\n",
        "\n",
        "    return y, custom_grad\n",
        "\n",
        "# Example input tensor\n",
        "x = tf.constant(2.0)\n",
        "\n",
        "# Forward pass: Get the output of the function\n",
        "with tf.GradientTape() as tape:\n",
        "    tape.watch(x)\n",
        "    y = grad_reverse(x)\n",
        "\n",
        "# Compute the gradient using automatic differentiation\n",
        "grad = tape.gradient(y, x)\n",
        "\n",
        "print(\"Input:\", x.numpy())\n",
        "print(\"Output (Forward Pass):\", y.numpy())\n",
        "print(\"Gradient:\", grad.numpy())"
      ],
      "metadata": {
        "colab": {
          "base_uri": "https://localhost:8080/"
        },
        "id": "bqThRcZmSfVM",
        "outputId": "effa0800-acef-4d65-95ff-c2d519657243"
      },
      "execution_count": null,
      "outputs": [
        {
          "output_type": "stream",
          "name": "stdout",
          "text": [
            "Input: 2.0\n",
            "Output (Forward Pass): 2.0\n",
            "Gradient: -1.0\n"
          ]
        }
      ]
    },
    {
      "cell_type": "code",
      "source": [
        "\n",
        "@tf.custom_gradient\n",
        "def grad_reverse(x):\n",
        "    y = tf.identity(x)\n",
        "\n",
        "    # Define the custom gradient function\n",
        "    def custom_grad(dy):\n",
        "        return -dy\n",
        "\n",
        "    return y, custom_grad\n",
        "\n",
        "# Example input (tensor)\n",
        "input_tensor = tf.constant([[1.0, 2.0], [3.0, 4.0]])\n",
        "\n",
        "with tf.GradientTape() as tape:\n",
        "    # Apply grad_reverse to the reduction operation\n",
        "    output = tf.reduce_sum(grad_reverse(input_tensor))\n",
        "\n",
        "# Calculate the gradient (which will use the reversed gradient from grad_reverse)\n",
        "grad = tape.gradient(output, input_tensor)\n",
        "\n",
        "print(\"Original input tensor: \\n\", input_tensor)\n",
        "print(\"Output of grad_reverse: \\n\", output)  # Output is directly the output of grad_reverse\n",
        "print(\"Gradient (reversed): \\n\", grad)\n"
      ],
      "metadata": {
        "colab": {
          "base_uri": "https://localhost:8080/"
        },
        "id": "IH0PJAPCUE7-",
        "outputId": "8a481f13-8e12-4089-f925-54270e40e556"
      },
      "execution_count": null,
      "outputs": [
        {
          "output_type": "stream",
          "name": "stdout",
          "text": [
            "Original input tensor: \n",
            " tf.Tensor(\n",
            "[[1. 2.]\n",
            " [3. 4.]], shape=(2, 2), dtype=float32)\n",
            "Output of grad_reverse: \n",
            " tf.Tensor(10.0, shape=(), dtype=float32)\n",
            "Gradient (reversed): \n",
            " None\n"
          ]
        }
      ]
    },
    {
      "cell_type": "code",
      "source": [
        "\n",
        "@tf.custom_gradient\n",
        "def grad_reverse(x):\n",
        "    y = tf.identity(x)\n",
        "\n",
        "    # Define the custom gradient function\n",
        "    def custom_grad(dy):\n",
        "        return -dy\n",
        "\n",
        "    return y, custom_grad\n",
        "\n",
        "\n",
        "# Example input (tensor)\n",
        "input_tensor = tf.constant([[1.0, 2.0], [3.0, 4.0]])\n",
        "\n",
        "\n",
        "with tf.GradientTape() as tape:\n",
        "    tape.watch(input_tensor)  # Ensure input_tensor is watched by the tape\n",
        "    # Apply grad_reverse to the reduction operation\n",
        "    output = tf.reduce_sum(grad_reverse(input_tensor))\n",
        "\n",
        "\n",
        "# Calculate the gradient (which will use the reversed gradient from grad_reverse)\n",
        "grad = tape.gradient(output, input_tensor)\n",
        "\n",
        "print(\"Original input tensor: \\n\", input_tensor)\n",
        "print(\"Output of grad_reverse: \\n\", output)  # Output is directly the output of grad_reverse\n",
        "print(\"Gradient (reversed): \\n\", grad)\n"
      ],
      "metadata": {
        "colab": {
          "base_uri": "https://localhost:8080/"
        },
        "id": "3ZoJOheRUE-Y",
        "outputId": "15c82af9-be7f-4261-f295-52d49c0918b0"
      },
      "execution_count": null,
      "outputs": [
        {
          "output_type": "stream",
          "name": "stdout",
          "text": [
            "Original input tensor: \n",
            " tf.Tensor(\n",
            "[[1. 2.]\n",
            " [3. 4.]], shape=(2, 2), dtype=float32)\n",
            "Output of grad_reverse: \n",
            " tf.Tensor(10.0, shape=(), dtype=float32)\n",
            "Gradient (reversed): \n",
            " tf.Tensor(\n",
            "[[-1. -1.]\n",
            " [-1. -1.]], shape=(2, 2), dtype=float32)\n"
          ]
        }
      ]
    },
    {
      "cell_type": "code",
      "source": [
        "\n",
        "@tf.custom_gradient\n",
        "def grad_reverse(x):\n",
        "  y = tf.identity(x)\n",
        "  def custom_grad(dy):\n",
        "    return -dy\n",
        "  return y, custom_grad\n",
        "\n",
        "# Example input (tensor)\n",
        "input_tensor = tf.constant([[1.0, 2.0], [3.0, 4.0]])\n",
        "\n",
        "with tf.GradientTape() as tape:\n",
        "  tape.watch(input_tensor)\n",
        "  reversed_tensor = grad_reverse(input_tensor)  # Gradient will be reversed\n",
        "  output = tf.reduce_sum(reversed_tensor)     # Example follow-up operation\n",
        "\n",
        "# Calculate the gradient (which will use the reversed gradient from grad_reverse)\n",
        "grad = tape.gradient(output, input_tensor)\n",
        "\n",
        "print(\"Original input tensor: \\n\", input_tensor)\n",
        "print(\"Output of grad_reverse: \\n\", reversed_tensor)\n",
        "print(\"Gradient (reversed): \\n\", grad)"
      ],
      "metadata": {
        "colab": {
          "base_uri": "https://localhost:8080/"
        },
        "id": "7NPQQyVvSfXn",
        "outputId": "01123f1c-91ec-407e-e52b-9082f27fadc9"
      },
      "execution_count": null,
      "outputs": [
        {
          "output_type": "stream",
          "name": "stdout",
          "text": [
            "Original input tensor: \n",
            " tf.Tensor(\n",
            "[[1. 2.]\n",
            " [3. 4.]], shape=(2, 2), dtype=float32)\n",
            "Output of grad_reverse: \n",
            " tf.Tensor(\n",
            "[[1. 2.]\n",
            " [3. 4.]], shape=(2, 2), dtype=float32)\n",
            "Gradient (reversed): \n",
            " tf.Tensor(\n",
            "[[-1. -1.]\n",
            " [-1. -1.]], shape=(2, 2), dtype=float32)\n"
          ]
        }
      ]
    },
    {
      "cell_type": "code",
      "source": [],
      "metadata": {
        "id": "2lHMnJIJSfay"
      },
      "execution_count": null,
      "outputs": []
    },
    {
      "cell_type": "code",
      "source": [
        "@tf.custom_gradient\n",
        "def grad_reverse(x):\n",
        "    y = tf.identity(x)\n",
        "    def custom_grad(dy):\n",
        "        return -dy\n",
        "    return y, custom_grad\n",
        "\n",
        "# Define the function g(x) = grad_reverse(x^2)\n",
        "def g(x):\n",
        "    return grad_reverse(x**2)\n",
        "\n",
        "# Use a TensorFlow Variable for x and set its initial value to 3\n",
        "x = tf.Variable(3.0)\n",
        "\n",
        "with tf.GradientTape() as tape:\n",
        "    y = g(x)\n",
        "\n",
        "# Compute gradient dy/dx\n",
        "grad = tape.gradient(y, x)\n",
        "\n",
        "print(grad.numpy())"
      ],
      "metadata": {
        "id": "W9f0gFE6Xuzd"
      },
      "execution_count": null,
      "outputs": []
    },
    {
      "cell_type": "code",
      "source": [
        "@tf.custom_gradient\n",
        "def grad_reverse(x):\n",
        "    y = tf.identity(x)\n",
        "\n",
        "    # Define the custom gradient function\n",
        "    def custom_grad(dy):\n",
        "        return -dy\n",
        "\n",
        "    return y, custom_grad\n",
        "\n",
        "# Define the function g(x) = grad_reverse(x^2)\n",
        "def g(x):\n",
        "    return grad_reverse(x**2)\n",
        "\n",
        "# Input tensor\n",
        "input_tensor = tf.constant([[1.0, 2.0], [3.0, 4.0]])\n",
        "\n",
        "# Apply the function g to the input tensor\n",
        "with tf.GradientTape() as tape:\n",
        "    tape.watch(input_tensor)  # Ensure input_tensor is watched by the tape\n",
        "    y = g(input_tensor)\n",
        "\n",
        "# Compute gradient dy/dx\n",
        "grad = tape.gradient(y, input_tensor)\n",
        "\n",
        "print(grad.numpy())\n"
      ],
      "metadata": {
        "colab": {
          "base_uri": "https://localhost:8080/"
        },
        "id": "pW4mkFE0Xu2A",
        "outputId": "2692b266-40fa-4a2c-9719-d4c5709b0a79"
      },
      "execution_count": null,
      "outputs": [
        {
          "output_type": "stream",
          "name": "stdout",
          "text": [
            "[[-2. -4.]\n",
            " [-6. -8.]]\n"
          ]
        }
      ]
    },
    {
      "cell_type": "code",
      "source": [],
      "metadata": {
        "id": "Ggtan4g8SfdX"
      },
      "execution_count": null,
      "outputs": []
    },
    {
      "cell_type": "code",
      "source": [],
      "metadata": {
        "id": "-amMgupJSff1"
      },
      "execution_count": null,
      "outputs": []
    },
    {
      "cell_type": "code",
      "source": [
        "def binary_search(arr, target):\n",
        "    \"\"\"\n",
        "    Performs a binary search for a target element in a sorted list.\n",
        "    Returns the index of the target if found, otherwise returns -1.\n",
        "    \"\"\"\n",
        "    low = 0\n",
        "    high = len(arr) - 1\n",
        "\n",
        "    while low <= high:\n",
        "        mid = (low + high) // 2\n",
        "        guess = arr[mid]\n",
        "        if guess == target:\n",
        "            return mid\n",
        "        if guess > target:\n",
        "            high = mid - 1\n",
        "        else:\n",
        "            low = mid + 1\n",
        "\n",
        "    return -1\n",
        "\n",
        "def main():\n",
        "    try:\n",
        "        user_list = input(\"Enter a sorted list of numbers separated by spaces: \")\n",
        "        numbers = [int(item) for item in user_list.split()]\n",
        "\n",
        "        target = int(input(\"Enter the number to search for: \"))\n",
        "\n",
        "        result = binary_search(numbers, target)\n",
        "        if result != -1:\n",
        "            print(f\"Number found at index: {result}\")\n",
        "        else:\n",
        "            print(\"Number not found in the list.\")\n",
        "\n",
        "    except ValueError:\n",
        "        print(\"Invalid input. Please enter only numbers.\")\n",
        "\n"
      ],
      "metadata": {
        "colab": {
          "base_uri": "https://localhost:8080/"
        },
        "id": "hHQLkTQYa7tz",
        "outputId": "3229a19e-1f68-4394-9156-be274a912351"
      },
      "execution_count": null,
      "outputs": [
        {
          "output_type": "stream",
          "name": "stdout",
          "text": [
            "Enter a sorted list of numbers separated by spaces: 1 2 3 4 5 6\n",
            "Enter the number to search for: 3\n",
            "Number found at index: 2\n"
          ]
        }
      ]
    },
    {
      "cell_type": "code",
      "source": [
        "if __name__ == \"__main__\":\n",
        "    main()"
      ],
      "metadata": {
        "colab": {
          "base_uri": "https://localhost:8080/"
        },
        "id": "Sc5h7mPLarDT",
        "outputId": "8e684a9b-22ab-4493-cead-c1ed027c660e"
      },
      "execution_count": null,
      "outputs": [
        {
          "output_type": "stream",
          "name": "stdout",
          "text": [
            "Enter a sorted list of numbers separated by spaces: 2 66 333 9877\n",
            "Enter the number to search for: 2\n",
            "Number found at index: 0\n"
          ]
        }
      ]
    },
    {
      "cell_type": "code",
      "source": [],
      "metadata": {
        "id": "ofnDtUrgbHkl"
      },
      "execution_count": null,
      "outputs": []
    },
    {
      "cell_type": "code",
      "source": [
        "\n",
        "data = {'col1': [1, 2, 3], 'col2': [4, 5, 6]}\n",
        "df = pd.DataFrame(data)\n",
        "\n",
        "# Create a new column with a list of values\n",
        "df['new_col'] = [10, 20, 30]\n",
        "print(df)\n",
        "\n",
        "# Or use an existing Series:\n",
        "new_series = pd.Series([-1, -2, -3])\n",
        "df['another_col'] = new_series\n",
        "print(df)\n"
      ],
      "metadata": {
        "colab": {
          "base_uri": "https://localhost:8080/"
        },
        "id": "_HOpWQYRp6B1",
        "outputId": "e05ec447-749d-4118-ab33-1c3461874d93"
      },
      "execution_count": null,
      "outputs": [
        {
          "output_type": "stream",
          "name": "stdout",
          "text": [
            "   col1  col2  new_col\n",
            "0     1     4       10\n",
            "1     2     5       20\n",
            "2     3     6       30\n",
            "   col1  col2  new_col  another_col\n",
            "0     1     4       10           -1\n",
            "1     2     5       20           -2\n",
            "2     3     6       30           -3\n"
          ]
        }
      ]
    },
    {
      "cell_type": "code",
      "source": [
        "# Insert at the beginning (index 0)\n",
        "df.insert(0, 'new_col1', [7, 8, 9])\n",
        "print(df)"
      ],
      "metadata": {
        "colab": {
          "base_uri": "https://localhost:8080/"
        },
        "id": "OChOa32TqCDT",
        "outputId": "81dca213-9a39-494b-e907-04617e321e31"
      },
      "execution_count": null,
      "outputs": [
        {
          "output_type": "stream",
          "name": "stdout",
          "text": [
            "   new_col1  col1  col2  new_col  another_col\n",
            "0         7     1     4       10           -1\n",
            "1         8     2     5       20           -2\n",
            "2         9     3     6       30           -3\n"
          ]
        }
      ]
    },
    {
      "cell_type": "code",
      "source": [
        "# Create a new DataFrame with the added column\n",
        "new_df = df.assign(new_col=[-10, -20, -30])\n",
        "print(new_df)"
      ],
      "metadata": {
        "colab": {
          "base_uri": "https://localhost:8080/"
        },
        "id": "vXi1d2Y3p6Eg",
        "outputId": "30199cfe-012e-4e07-d3c4-7553a75cc52a"
      },
      "execution_count": null,
      "outputs": [
        {
          "output_type": "stream",
          "name": "stdout",
          "text": [
            "   new_col1  col1  col2  new_col  another_col\n",
            "0         7     1     4      -10           -1\n",
            "1         8     2     5      -20           -2\n",
            "2         9     3     6      -30           -3\n"
          ]
        }
      ]
    },
    {
      "cell_type": "code",
      "source": [
        "new_cols_dict = {'new_col1': [1, 2, 3], 'new_col2': [4, 5, 6]}\n",
        "df = df.assign(**new_cols_dict)\n",
        "print(df)"
      ],
      "metadata": {
        "colab": {
          "base_uri": "https://localhost:8080/"
        },
        "id": "pa7hNKjMp6HP",
        "outputId": "a6ffe3c2-2c34-4591-d2d1-f16d4c7f5f2f"
      },
      "execution_count": null,
      "outputs": [
        {
          "output_type": "stream",
          "name": "stdout",
          "text": [
            "   new_col1  col1  col2  new_col  another_col  new_col2\n",
            "0         1     1     4       10           -1         4\n",
            "1         2     2     5       20           -2         5\n",
            "2         3     3     6       30           -3         6\n"
          ]
        }
      ]
    },
    {
      "cell_type": "code",
      "source": [
        "\n",
        "def calculate_new_column(row):\n",
        "    return row['col1'] * row['col2']  # Calculate based on existing columns\n",
        "\n",
        "df['calculated_col'] = df.apply(calculate_new_column, axis=1)\n",
        "print(df)"
      ],
      "metadata": {
        "colab": {
          "base_uri": "https://localhost:8080/"
        },
        "id": "FrLGftFlbHo3",
        "outputId": "8e88dab1-ecb7-48fc-dad1-0ca11ca0ecf8"
      },
      "execution_count": null,
      "outputs": [
        {
          "output_type": "stream",
          "name": "stdout",
          "text": [
            "   new_col1  col1  col2  new_col  another_col  new_col2  calculated_col\n",
            "0         1     1     4       10           -1         4               4\n",
            "1         2     2     5       20           -2         5              10\n",
            "2         3     3     6       30           -3         6              18\n"
          ]
        }
      ]
    },
    {
      "cell_type": "code",
      "source": [
        "\n",
        "# Create a sample DataFrame\n",
        "data = {\n",
        "    'A': [1, 2, 3],\n",
        "    'B': [4, 5, 6]\n",
        "}\n",
        "df = pd.DataFrame(data)\n",
        "\n",
        "# Print the original DataFrame\n",
        "print(\"Original DataFrame:\")\n",
        "print(df)\n",
        "\n",
        "# Manually add a new column\n",
        "df['C'] = [7, 8, 9]\n",
        "\n",
        "# Print the DataFrame with the new column\n",
        "print(\"\\nDataFrame after adding the new column:\")\n",
        "print(df)\n"
      ],
      "metadata": {
        "colab": {
          "base_uri": "https://localhost:8080/"
        },
        "id": "-AqXHbbBs7Vs",
        "outputId": "f9fdfbd1-09b4-4460-e59e-9e978b8ab1ca"
      },
      "execution_count": null,
      "outputs": [
        {
          "output_type": "stream",
          "name": "stdout",
          "text": [
            "Original DataFrame:\n",
            "   A  B\n",
            "0  1  4\n",
            "1  2  5\n",
            "2  3  6\n",
            "\n",
            "DataFrame after adding the new column:\n",
            "   A  B  C\n",
            "0  1  4  7\n",
            "1  2  5  8\n",
            "2  3  6  9\n"
          ]
        }
      ]
    },
    {
      "cell_type": "code",
      "source": [],
      "metadata": {
        "id": "jtDzRHXBIDRI"
      },
      "execution_count": null,
      "outputs": []
    },
    {
      "cell_type": "code",
      "source": [
        "def sum_array(arr):\n",
        "    # Initialize a variable to keep track of the sum\n",
        "    total = 0\n",
        "\n",
        "    # Using a variable to skip numbers if needed\n",
        "    skip = False\n",
        "\n",
        "    # Traverse through the array\n",
        "    i = 0\n",
        "    while i < len(arr):\n",
        "        # If the current number is 6 and the skip flag is False\n",
        "        if arr[i] == 6 and not skip:\n",
        "            # Try to find the next 7 in the array\n",
        "            next_seven_index = -1\n",
        "            for j in range(i+1, len(arr)):\n",
        "                if arr[j] == 7:\n",
        "                    next_seven_index = j\n",
        "                    break\n",
        "\n",
        "            # If a 7 is found after the current index\n",
        "            if next_seven_index != -1:\n",
        "                # Set the index i to the position after 7\n",
        "                i = next_seven_index + 1\n",
        "                # Set the skip flag to True to avoid considering any numbers between 6 and 7\n",
        "                skip = True\n",
        "                continue\n",
        "        # If the current number is not 6 or if the skip flag is False\n",
        "        if not skip:\n",
        "            total += arr[i]\n",
        "        # Reset the skip flag to False once the sequence of 6 followed by 7 is completed\n",
        "        if skip and arr[i] == 7:\n",
        "            skip = False\n",
        "        i += 1\n",
        "\n",
        "    return total\n",
        "\n",
        "# Example usage\n",
        "arr = [1, 2, 3, 6, 4, 5, 7, 8]\n",
        "print(sum_array(arr))  # Expected output: 1+2+3+8 = 14"
      ],
      "metadata": {
        "id": "-x2fYujtIDTr",
        "outputId": "7050a027-b65d-4494-c83c-99b006c1a2a3",
        "colab": {
          "base_uri": "https://localhost:8080/"
        }
      },
      "execution_count": null,
      "outputs": [
        {
          "output_type": "stream",
          "name": "stdout",
          "text": [
            "6\n"
          ]
        }
      ]
    },
    {
      "cell_type": "code",
      "source": [
        "#design a phase 3 warden phases code from osrs\n",
        "\n",
        "#create 2D board as the closed area\n",
        "#simulate the game between player and monster\n",
        "\n",
        "#function to attack and scan area\n",
        "#check half area then other half then middle\n",
        "\n",
        "#player able to move adjacent\n",
        "\n",
        "#add other attacks\n"
      ],
      "metadata": {
        "id": "vxIEnWaSID8v"
      },
      "execution_count": null,
      "outputs": []
    },
    {
      "cell_type": "code",
      "source": [],
      "metadata": {
        "id": "UcR6m2WJID_Q"
      },
      "execution_count": null,
      "outputs": []
    }
  ]
}